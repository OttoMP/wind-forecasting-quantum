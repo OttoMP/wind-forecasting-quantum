{
 "cells": [
  {
   "cell_type": "code",
   "execution_count": 33,
   "id": "64a9fbd1-fda4-4365-881c-a3607996b551",
   "metadata": {},
   "outputs": [],
   "source": [
    "import numpy as np\n",
    "import pandas as pd\n",
    "import matplotlib.pyplot as plt\n",
    "import pennylane as qml\n",
    "import tensorflow as tf\n",
    "\n",
    "\n",
    "from tensorflow.keras.models import Sequential\n",
    "from tensorflow.keras.layers import Dense, Activation\n",
    "from tensorflow.keras import optimizers, activations\n",
    "from tensorflow.keras.callbacks import EarlyStopping, ReduceLROnPlateau\n",
    "from sklearn.model_selection import train_test_split\n",
    "from sklearn.preprocessing import StandardScaler\n",
    "from sklearn.metrics import mean_squared_error, mean_absolute_error,r2_score\n",
    "\n",
    "from math import sqrt\n",
    "from scipy import stats\n",
    "from datetime import datetime,timedelta\n",
    "\n",
    "seed = 7\n",
    "np.random.seed(seed)\n",
    "\n",
    "from tensorflow.keras import backend\n",
    "backend.set_floatx('float64')"
   ]
  },
  {
   "cell_type": "markdown",
   "id": "e2eee4f3",
   "metadata": {},
   "source": [
    "## Carregando os Dados"
   ]
  },
  {
   "cell_type": "code",
   "execution_count": 2,
   "id": "20a17b7c-c7ef-48f8-8a26-ef41863a1f51",
   "metadata": {},
   "outputs": [],
   "source": [
    "def carregar_tabela(path):\n",
    "    dataframe=pd.read_csv(path)\n",
    "    dataset = dataframe.values\n",
    "    X_train_all=dataframe[['Total amount of precipitation','Vapor_Pressure','Relative_Humudity','Amount of cloudiness','Actual_Pressure']]\n",
    "    y_train_all=dataframe[['Temperature']]\n",
    "\n",
    "    return X_train_all, y_train_all.values"
   ]
  },
  {
   "cell_type": "code",
   "execution_count": 3,
   "id": "275a8f24",
   "metadata": {},
   "outputs": [
    {
     "name": "stdout",
     "output_type": "stream",
     "text": [
      "There are 5 features and 43829 instâncias\n"
     ]
    },
    {
     "data": {
      "text/html": [
       "<div>\n",
       "<style scoped>\n",
       "    .dataframe tbody tr th:only-of-type {\n",
       "        vertical-align: middle;\n",
       "    }\n",
       "\n",
       "    .dataframe tbody tr th {\n",
       "        vertical-align: top;\n",
       "    }\n",
       "\n",
       "    .dataframe thead th {\n",
       "        text-align: right;\n",
       "    }\n",
       "</style>\n",
       "<table border=\"1\" class=\"dataframe\">\n",
       "  <thead>\n",
       "    <tr style=\"text-align: right;\">\n",
       "      <th></th>\n",
       "      <th>Total amount of precipitation</th>\n",
       "      <th>Vapor_Pressure</th>\n",
       "      <th>Relative_Humudity</th>\n",
       "      <th>Amount of cloudiness</th>\n",
       "      <th>Actual_Pressure</th>\n",
       "    </tr>\n",
       "  </thead>\n",
       "  <tbody>\n",
       "    <tr>\n",
       "      <th>0</th>\n",
       "      <td>0.0</td>\n",
       "      <td>6.0</td>\n",
       "      <td>99</td>\n",
       "      <td>7</td>\n",
       "      <td>1020.2</td>\n",
       "    </tr>\n",
       "    <tr>\n",
       "      <th>1</th>\n",
       "      <td>0.0</td>\n",
       "      <td>5.6</td>\n",
       "      <td>99</td>\n",
       "      <td>7</td>\n",
       "      <td>1019.7</td>\n",
       "    </tr>\n",
       "    <tr>\n",
       "      <th>2</th>\n",
       "      <td>0.0</td>\n",
       "      <td>5.6</td>\n",
       "      <td>99</td>\n",
       "      <td>7</td>\n",
       "      <td>1019.4</td>\n",
       "    </tr>\n",
       "    <tr>\n",
       "      <th>3</th>\n",
       "      <td>0.0</td>\n",
       "      <td>5.6</td>\n",
       "      <td>94</td>\n",
       "      <td>7</td>\n",
       "      <td>1019.6</td>\n",
       "    </tr>\n",
       "    <tr>\n",
       "      <th>4</th>\n",
       "      <td>0.0</td>\n",
       "      <td>5.6</td>\n",
       "      <td>91</td>\n",
       "      <td>7</td>\n",
       "      <td>1019.6</td>\n",
       "    </tr>\n",
       "  </tbody>\n",
       "</table>\n",
       "</div>"
      ],
      "text/plain": [
       "   Total amount of precipitation  Vapor_Pressure  Relative_Humudity  \\\n",
       "0                            0.0             6.0                 99   \n",
       "1                            0.0             5.6                 99   \n",
       "2                            0.0             5.6                 99   \n",
       "3                            0.0             5.6                 94   \n",
       "4                            0.0             5.6                 91   \n",
       "\n",
       "   Amount of cloudiness  Actual_Pressure  \n",
       "0                     7           1020.2  \n",
       "1                     7           1019.7  \n",
       "2                     7           1019.4  \n",
       "3                     7           1019.6  \n",
       "4                     7           1019.6  "
      ]
     },
     "execution_count": 3,
     "metadata": {},
     "output_type": "execute_result"
    }
   ],
   "source": [
    "filename = '2023Ogur/WeatherForcasting_DATA.csv'\n",
    "\n",
    "X_train_all,y_train_all = carregar_tabela(filename)\n",
    "#y_train_all = y_train_all.reshape(-1,1)\n",
    "\n",
    "n_features = X_train_all.shape[1]\n",
    "n_instances = X_train_all.shape[0]\n",
    "print(f\"There are {n_features} features and {n_instances} instâncias\")\n",
    "X_train_all.head()"
   ]
  },
  {
   "cell_type": "code",
   "execution_count": 4,
   "id": "e15a23cc",
   "metadata": {},
   "outputs": [
    {
     "data": {
      "text/plain": [
       "array([[-0.7],\n",
       "       [-1.3],\n",
       "       [-1. ],\n",
       "       ...,\n",
       "       [15.3],\n",
       "       [15.3],\n",
       "       [15.3]])"
      ]
     },
     "execution_count": 4,
     "metadata": {},
     "output_type": "execute_result"
    }
   ],
   "source": [
    "y_train_all"
   ]
  },
  {
   "cell_type": "markdown",
   "id": "289d448a",
   "metadata": {},
   "source": [
    "## Normalizando"
   ]
  },
  {
   "cell_type": "code",
   "execution_count": 5,
   "id": "7d72ab61",
   "metadata": {},
   "outputs": [],
   "source": [
    "scaler_x = StandardScaler()\n",
    "X_train_scaled = scaler_x.fit_transform(X_train_all)\n",
    "#scaler_y = StandardScaler()\n",
    "#y_train_scaled = scaler_y.fit_transform(y_train_all)"
   ]
  },
  {
   "cell_type": "code",
   "execution_count": 6,
   "id": "5c86fcd9",
   "metadata": {},
   "outputs": [
    {
     "data": {
      "text/plain": [
       "array([[-0.7],\n",
       "       [-1.3],\n",
       "       [-1. ],\n",
       "       ...,\n",
       "       [15.3],\n",
       "       [15.3],\n",
       "       [15.3]])"
      ]
     },
     "execution_count": 6,
     "metadata": {},
     "output_type": "execute_result"
    }
   ],
   "source": [
    "y_train_all"
   ]
  },
  {
   "cell_type": "code",
   "execution_count": 7,
   "id": "d7d76bf5",
   "metadata": {},
   "outputs": [
    {
     "name": "stdout",
     "output_type": "stream",
     "text": [
      "Len(Train): 4382\n",
      "Len(Test): 39447\n"
     ]
    }
   ],
   "source": [
    "X_train, X_val, y_train, y_val = train_test_split(X_train_scaled, y_train_all, test_size=0.9, random_state=42)\n",
    "X_train = tf.cast(X_train, dtype=tf.float64)\n",
    "y_train = tf.cast(y_train, dtype=tf.float64)\n",
    "print(\"Len(Train):\",len(X_train))\n",
    "print(\"Len(Test):\",len(X_val))"
   ]
  },
  {
   "cell_type": "markdown",
   "id": "714ecbf8",
   "metadata": {},
   "source": [
    "## Rede Quântica"
   ]
  },
  {
   "cell_type": "code",
   "execution_count": 8,
   "id": "9c93864e-fd55-4836-8fa8-1fa294a28583",
   "metadata": {},
   "outputs": [],
   "source": [
    "def H_layer(n_qubits):\n",
    "    for idx in range(n_qubits):\n",
    "        qml.Hadamard(wires=idx)\n",
    "\n",
    "def Data_AngleEmbedding_layer(inputs, n_qubits):\n",
    "    qml.templates.AngleEmbedding(inputs,rotation='Y', wires=range(n_qubits))\n",
    "\n",
    "def RY_layer(w):\n",
    "    print(w.shape)\n",
    "    for idx, element in enumerate(w):\n",
    "        qml.RY(element, wires=idx)\n",
    "\n",
    "def ROT_layer(w):\n",
    "    for i in range(5):\n",
    "        qml.Rot(*w[i],wires=i)\n",
    "\n",
    "def strong_entangling_layer(nqubits):\n",
    "    qml.CNOT(wires=[0,1])\n",
    "    qml.CNOT(wires=[1,2])\n",
    "    qml.CNOT(wires=[2,3])\n",
    "    qml.CNOT(wires=[3,4])\n",
    "    qml.CNOT(wires=[4,0])\n",
    "    \n",
    "    \n",
    "def entangling_layer(nqubits):\n",
    "    for i in range(0, nqubits - 1, 2): \n",
    "        qml.CNOT(wires=[i, i + 1])\n",
    "    for i in range(1, nqubits - 1, 2):  \n",
    "        qml.CNOT(wires=[i, i + 1])"
   ]
  },
  {
   "cell_type": "code",
   "execution_count": 9,
   "id": "71eb90d2-016b-4ed1-a01c-5545653d66df",
   "metadata": {},
   "outputs": [
    {
     "name": "stdout",
     "output_type": "stream",
     "text": [
      "Serão necessários 5 qubits\n"
     ]
    }
   ],
   "source": [
    "n_qubits = n_features\n",
    "print(f\"Serão necessários {n_qubits} qubits\")\n",
    "n_layers = 1\n",
    "\n",
    "#dev = qml.device('lightning.gpu', wires=n_qubits)\n",
    "#dev = qml.device('lightning.qubit', wires=n_qubits)\n",
    "dev = qml.device('default.qubit', wires=n_qubits)\n",
    "@qml.qnode(dev, interface=\"torch\")\n",
    "def qnode(inputs, weights_1):\n",
    "    H_layer(n_qubits)\n",
    "    Data_AngleEmbedding_layer(inputs, n_qubits)\n",
    "    for k in range(n_layers):\n",
    "        entangling_layer(n_qubits)\n",
    "        ROT_layer(weights_1[k])\n",
    "    return [qml.expval(qml.PauliZ(wires=i)) for i in range(n_qubits)]"
   ]
  },
  {
   "cell_type": "markdown",
   "id": "80fc1dc0",
   "metadata": {},
   "source": [
    "## Drawing Quantum Circuit"
   ]
  },
  {
   "cell_type": "code",
   "execution_count": 10,
   "id": "4b25d6be",
   "metadata": {},
   "outputs": [
    {
     "name": "stdout",
     "output_type": "stream",
     "text": [
      "0: ──H──RY(2.86)─╭●──Rot(0.24,2.45,1.38)──────────────────────┤  <Z>\n",
      "1: ──H──RY(0.67)─╰X─╭●────────────────────Rot(2.27,3.07,1.69)─┤  <Z>\n",
      "2: ──H──RY(1.42)─╭●─╰X────────────────────Rot(1.57,0.23,0.84)─┤  <Z>\n",
      "3: ──H──RY(2.93)─╰X─╭●────────────────────Rot(1.57,2.13,2.53)─┤  <Z>\n",
      "4: ──H──RY(0.08)────╰X────────────────────Rot(1.20,0.21,0.91)─┤  <Z>\n"
     ]
    }
   ],
   "source": [
    "weight_shapes = {\"weights_1\": (n_layers,n_qubits,3)}\n",
    "\n",
    "sampl_weights = np.random.uniform(low=0, high=np.pi, size=weight_shapes[\"weights_1\"])\n",
    "sampl_input = np.random.uniform(low=0, high=np.pi, size=(n_qubits,))\n",
    "print(qml.draw(qnode, expansion_strategy=\"device\")(sampl_input, sampl_weights))"
   ]
  },
  {
   "cell_type": "code",
   "execution_count": 11,
   "id": "b8edc1d8-ed42-466a-bbb5-c53f78ee233e",
   "metadata": {},
   "outputs": [],
   "source": [
    "q_layer = qml.qnn.KerasLayer(qnode, weight_shapes, output_dim=n_qubits)\n",
    "Activation=tf.keras.layers.Activation(activations.linear)\n",
    "output_layer = tf.keras.layers.Dense(1,kernel_initializer='normal')\n",
    "\n",
    "opt = tf.keras.optimizers.Adam(learning_rate=0.1)\n",
    "\n",
    "model = tf.keras.models.Sequential([q_layer,Activation, output_layer])\n",
    "model.compile(opt, loss=\"mse\")"
   ]
  },
  {
   "cell_type": "code",
   "execution_count": 12,
   "id": "9048599d",
   "metadata": {},
   "outputs": [
    {
     "name": "stdout",
     "output_type": "stream",
     "text": [
      "Model: \"sequential\"\n",
      "_________________________________________________________________\n",
      " Layer (type)                Output Shape              Param #   \n",
      "=================================================================\n",
      " keras_layer (KerasLayer)    (5, 5)                    15        \n",
      "                                                                 \n",
      " activation (Activation)     (5, 5)                    0         \n",
      "                                                                 \n",
      " dense (Dense)               (5, 1)                    6         \n",
      "                                                                 \n",
      "=================================================================\n",
      "Total params: 21\n",
      "Trainable params: 21\n",
      "Non-trainable params: 0\n",
      "_________________________________________________________________\n"
     ]
    }
   ],
   "source": [
    "input_shape = (n_qubits,)\n",
    "\n",
    "model.build(input_shape)\n",
    "model.summary()"
   ]
  },
  {
   "cell_type": "code",
   "execution_count": 13,
   "id": "b15dd249-42ad-4f0e-84a8-8c0f37ee2f18",
   "metadata": {},
   "outputs": [
    {
     "name": "stdout",
     "output_type": "stream",
     "text": [
      "Epoch 1/30\n",
      "69/69 [==============================] - 28s 403ms/step - loss: 116.6357 - val_loss: 53.8546 - lr: 0.1000\n",
      "Epoch 2/30\n",
      "69/69 [==============================] - 27s 396ms/step - loss: 49.0840 - val_loss: 45.6075 - lr: 0.1000\n",
      "Epoch 3/30\n",
      "69/69 [==============================] - 27s 396ms/step - loss: 44.3763 - val_loss: 42.3966 - lr: 0.1000\n",
      "Epoch 4/30\n",
      "69/69 [==============================] - 27s 402ms/step - loss: 41.6402 - val_loss: 40.2328 - lr: 0.1000\n",
      "Epoch 5/30\n",
      "69/69 [==============================] - 27s 401ms/step - loss: 39.8275 - val_loss: 39.3059 - lr: 0.1000\n",
      "Epoch 6/30\n",
      "69/69 [==============================] - 27s 401ms/step - loss: 38.7552 - val_loss: 37.5990 - lr: 0.1000\n",
      "Epoch 7/30\n",
      "69/69 [==============================] - 27s 402ms/step - loss: 37.9179 - val_loss: 37.0712 - lr: 0.1000\n",
      "Epoch 8/30\n",
      "69/69 [==============================] - 28s 404ms/step - loss: 37.3710 - val_loss: 36.5604 - lr: 0.1000\n",
      "Epoch 9/30\n",
      "69/69 [==============================] - 27s 401ms/step - loss: 37.1555 - val_loss: 36.1372 - lr: 0.1000\n",
      "Epoch 10/30\n",
      "69/69 [==============================] - 28s 411ms/step - loss: 36.5728 - val_loss: 35.8633 - lr: 0.1000\n",
      "Epoch 11/30\n",
      "69/69 [==============================] - 27s 402ms/step - loss: 36.1761 - val_loss: 35.5022 - lr: 0.1000\n",
      "Epoch 12/30\n",
      "69/69 [==============================] - 28s 408ms/step - loss: 36.2252 - val_loss: 35.2272 - lr: 0.1000\n",
      "Epoch 13/30\n",
      "69/69 [==============================] - 27s 400ms/step - loss: 36.1562 - val_loss: 36.5538 - lr: 0.1000\n",
      "Epoch 14/30\n",
      "69/69 [==============================] - 28s 404ms/step - loss: 36.2900 - val_loss: 35.5704 - lr: 0.1000\n",
      "Epoch 15/30\n",
      "69/69 [==============================] - 27s 402ms/step - loss: 35.1694 - val_loss: 35.1266 - lr: 0.1000\n",
      "Epoch 16/30\n",
      "69/69 [==============================] - 28s 404ms/step - loss: 35.0195 - val_loss: 34.5564 - lr: 0.1000\n",
      "Epoch 17/30\n",
      "69/69 [==============================] - 27s 399ms/step - loss: 35.2290 - val_loss: 34.3226 - lr: 0.1000\n",
      "Epoch 18/30\n",
      "69/69 [==============================] - 27s 403ms/step - loss: 35.2874 - val_loss: 34.3749 - lr: 0.1000\n",
      "Epoch 19/30\n",
      "69/69 [==============================] - 27s 402ms/step - loss: 35.1326 - val_loss: 34.4930 - lr: 0.1000\n",
      "Epoch 20/30\n",
      "69/69 [==============================] - ETA: 0s - loss: 35.5787\n",
      "Epoch 00020: ReduceLROnPlateau reducing learning rate to 0.010000000149011612.\n",
      "69/69 [==============================] - 27s 399ms/step - loss: 35.5787 - val_loss: 34.7263 - lr: 0.1000\n",
      "Epoch 21/30\n",
      "69/69 [==============================] - 27s 400ms/step - loss: 34.5454 - val_loss: 34.2151 - lr: 0.0100\n",
      "Epoch 22/30\n",
      "69/69 [==============================] - 27s 402ms/step - loss: 34.3836 - val_loss: 34.1359 - lr: 0.0100\n",
      "Epoch 23/30\n",
      "69/69 [==============================] - 28s 403ms/step - loss: 34.3789 - val_loss: 34.1415 - lr: 0.0100\n",
      "Epoch 24/30\n",
      "69/69 [==============================] - 27s 402ms/step - loss: 34.3142 - val_loss: 34.0910 - lr: 0.0100\n",
      "Epoch 25/30\n",
      "69/69 [==============================] - 27s 401ms/step - loss: 34.3146 - val_loss: 34.1227 - lr: 0.0100\n",
      "Epoch 26/30\n",
      "69/69 [==============================] - 27s 401ms/step - loss: 34.3208 - val_loss: 34.2847 - lr: 0.0100\n",
      "Epoch 27/30\n",
      "69/69 [==============================] - ETA: 0s - loss: 34.3092\n",
      "Epoch 00027: ReduceLROnPlateau reducing learning rate to 0.0009999999776482583.\n",
      "69/69 [==============================] - 27s 399ms/step - loss: 34.3092 - val_loss: 34.3395 - lr: 0.0100\n",
      "Epoch 28/30\n",
      "69/69 [==============================] - 27s 401ms/step - loss: 34.2600 - val_loss: 34.0653 - lr: 1.0000e-03\n",
      "Epoch 29/30\n",
      "69/69 [==============================] - 27s 401ms/step - loss: 34.1837 - val_loss: 34.0632 - lr: 1.0000e-03\n",
      "Epoch 30/30\n",
      "69/69 [==============================] - 27s 401ms/step - loss: 34.1793 - val_loss: 34.0535 - lr: 1.0000e-03\n"
     ]
    }
   ],
   "source": [
    "es=EarlyStopping(monitor='val_loss', min_delta=0, patience=6, verbose=1, mode='auto', baseline=None, restore_best_weights=True)\n",
    "re=ReduceLROnPlateau(monitor='val_loss', factor=0.1, patience=3, verbose=1, mode='min', min_lr=0.00001)\n",
    "history_model = model.fit(X_train, y_train, epochs=30, batch_size=64, callbacks=[re], verbose=1, validation_data=(X_val, y_val))"
   ]
  },
  {
   "cell_type": "markdown",
   "id": "ed05ea3c",
   "metadata": {},
   "source": [
    "## Criando gráfico de Loss por Epoch"
   ]
  },
  {
   "cell_type": "code",
   "execution_count": 14,
   "id": "e7c2ef07",
   "metadata": {},
   "outputs": [],
   "source": [
    "def plot_history(history):\n",
    "    plt.figure(figsize=(14,5), dpi=320, facecolor='w', edgecolor='k')\n",
    "    plt.title(\"Loss\")\n",
    "    plt.xlabel(\"Época\")\n",
    "    plt.ylabel(\"Loss\")\n",
    "    plt.plot(history.history['loss'], label=\"Loss/Epoch\")\n",
    "    plt.plot(history.history['val_loss'], label=\"Val Loss/Epoch\")\n",
    "    plt.legend()\n",
    "    plt.show()"
   ]
  },
  {
   "cell_type": "code",
   "execution_count": 15,
   "id": "dfbd25bb",
   "metadata": {},
   "outputs": [
    {
     "data": {
      "image/png": "[encoded data removed]",
      "text/plain": [
       "<Figure size 4480x1600 with 1 Axes>"
      ]
     },
     "metadata": {},
     "output_type": "display_data"
    }
   ],
   "source": [
    "plot_history(history_model)"
   ]
  },
  {
   "cell_type": "markdown",
   "id": "97af1c9c",
   "metadata": {},
   "source": [
    "## Validação"
   ]
  },
  {
   "cell_type": "code",
   "execution_count": 28,
   "id": "8d52618e-3c1e-42c9-82ab-56afddfbad96",
   "metadata": {},
   "outputs": [
    {
     "name": "stdout",
     "output_type": "stream",
     "text": [
      "1233/1233 [==============================] - 43s 35ms/step\n"
     ]
    },
    {
     "data": {
      "text/plain": [
       "array([[20.39457927],\n",
       "       [14.42594787],\n",
       "       [17.8125463 ],\n",
       "       ...,\n",
       "       [16.97062729],\n",
       "       [18.80773369],\n",
       "       [12.36212374]])"
      ]
     },
     "execution_count": 28,
     "metadata": {},
     "output_type": "execute_result"
    }
   ],
   "source": [
    "y_predict=model.predict(X_val,verbose=1)\n",
    "#predict_normal = scaler_y.inverse_transform(predict)\n",
    "y_predict"
   ]
  },
  {
   "cell_type": "code",
   "execution_count": 35,
   "id": "967f5830-1447-429d-8e89-c9de399a176e",
   "metadata": {},
   "outputs": [
    {
     "name": "stdout",
     "output_type": "stream",
     "text": [
      "Mean Squared Error: 34.05348720546976\n"
     ]
    }
   ],
   "source": [
    "print('Mean Squared Error:', mean_squared_error(y_val, y_predict))"
   ]
  },
  {
   "cell_type": "code",
   "execution_count": 40,
   "id": "eb399651",
   "metadata": {},
   "outputs": [],
   "source": [
    "def factor_of_2(y_true, y_pred):\n",
    "    min_ = 0.5\n",
    "    max_ = 2.0\n",
    "\n",
    "    tensor_true = tf.constant(y_true)\n",
    "    tensor_true = tf.cast(tensor_true, tf.float32)\n",
    "    tensor_pred = tf.constant(y_pred)\n",
    "    tensor_pred = tf.cast(tensor_pred, tf.float32)\n",
    "\n",
    "    division = tf.divide(tensor_pred, tensor_true)\n",
    "\n",
    "    greater_min = tf.greater_equal(division, min_)\n",
    "    less_max = tf.less_equal(division, max_)\n",
    "\n",
    "    res = tf.equal(greater_min, less_max)\n",
    "    res = tf.cast(res, tf.float32)\n",
    "\n",
    "    return backend.get_value(tf.reduce_mean(res))\n",
    "\n",
    "\n",
    "def allmetrics(original,predito):\n",
    "    r_value = 0\n",
    "    slope, intercept, r_value, p_value, std_err = stats.linregress(original, predito)\n",
    "    mse = mean_squared_error(original, predito)\n",
    "    mae = mean_absolute_error(original, predito)\n",
    "    rr = r2_score(original,predito)\n",
    "    pea = stats.pearsonr(original, predito)\n",
    "    fat = factor_of_2(original,predito)\n",
    "    nmse = mse/stats.tvar(original)\n",
    "    rmse = sqrt(mse)\n",
    "    nrmse = rmse/stats.tstd(original)\n",
    "    return mae,mse,nmse,r_value,rr,fat,rmse,nrmse"
   ]
  },
  {
   "cell_type": "code",
   "execution_count": 41,
   "id": "9450aa96",
   "metadata": {},
   "outputs": [],
   "source": [
    "def get_error_interval(model, X_val, Y_val, y_test_pred, p_value):\n",
    "    y_val_pred = model.predict(X_val)\n",
    "    y_val_error = np.abs(Y_val - y_val_pred)\n",
    "    error_quantile=np.ndarray((1,Y_val.shape[1]));\n",
    "    for i in range(Y_val.shape[1]):\n",
    "        error_quantile[0,i] = np.quantile(y_val_error[:,i], q=p_value, interpolation='higher')\n",
    "        \n",
    "    y_test_interval_pred_left=np.ndarray(y_test_pred.shape);\n",
    "    y_test_interval_pred_right=np.ndarray(y_test_pred.shape);\n",
    "    \n",
    "    for i in range(y_test_pred.shape[1]):\n",
    "        y_test_interval_pred_left[:,i] = y_test_pred[:,i] - error_quantile[0,i]\n",
    "        y_test_interval_pred_right[:,i] = y_test_pred[:,i] + error_quantile[0,i]\n",
    "    return error_quantile, y_test_interval_pred_left, y_test_interval_pred_right"
   ]
  },
  {
   "cell_type": "code",
   "execution_count": 42,
   "id": "0c99ff22",
   "metadata": {},
   "outputs": [],
   "source": [
    "def get_mean_left_right_error_interval(model, y_test, y_scaler, y_test_pred):\n",
    "    error, error_left, error_right = get_error_interval(model, X_val, y_val, y_test_pred, 0.95)\n",
    "    \n",
    "    #error_left_normal = y_scaler.inverse_transform(error_left)\n",
    "    #error_right_normal = y_scaler.inverse_transform(error_right)\n",
    "\n",
    "    error_left_normal = error_left\n",
    "    error_right_normal = error_right\n",
    "\n",
    "    mean_error_normal=np.ndarray((1,y_test.shape[1]));\n",
    "    mean_error_left_normal=np.ndarray((1,y_test.shape[1]));\n",
    "    mean_error_right_normal=np.ndarray((1,y_test.shape[1]));\n",
    "    mean_predictions=np.ndarray((1,y_test_pred.shape[1]));\n",
    "\n",
    "    for i in range(y_test.shape[1]):\n",
    "        mean_error_left_normal[0,i] = np.mean(error_left_normal[:,i])\n",
    "        mean_error_right_normal[0,i] = np.mean(error_right_normal[:,i])\n",
    "        mean_predictions[0,i]=np.mean(y_test_pred[:,i])\n",
    "\n",
    "    mean_error_normal=(mean_error_right_normal-mean_error_left_normal)/2\n",
    "    return mean_predictions, mean_error_normal, mean_error_left_normal, mean_error_right_normal"
   ]
  },
  {
   "cell_type": "code",
   "execution_count": 43,
   "id": "0e80573c",
   "metadata": {},
   "outputs": [
    {
     "name": "stderr",
     "output_type": "stream",
     "text": [
      "/tmp/ipykernel_34161/2628266574.py:2: DeprecationWarning: the `interpolation=` argument to quantile was renamed to `method=`, which has additional options.\n",
      "Users of the modes 'nearest', 'lower', 'higher', or 'midpoint' are encouraged to review the method they used. (Deprecated NumPy 1.22)\n",
      "  error, error_left, error_right = get_error_interval(model, X_val, y_val, y_test_pred, 0.95)\n"
     ]
    }
   ],
   "source": [
    "mean_predictions, mean_error_normal, mean_error_left_normal, mean_error_right_normal = get_mean_left_right_error_interval(\n",
    "    model, y_val, scaler_x, y_predict)"
   ]
  },
  {
   "cell_type": "code",
   "execution_count": 50,
   "id": "b90f3a06",
   "metadata": {},
   "outputs": [],
   "source": [
    "def get_plot_prediction_versus_observed(model, y_test, predict):\n",
    "    valores = []\n",
    "    for i in range(y_test.shape[1]):\n",
    "        mae,mse,nmse,r_value,rr,fat,rmse,nrmse = allmetrics(y_test[:,i],predict[:,i])\n",
    "        valores.append([str(i+1)+\" depth\",mae,mse,nmse,rmse,nrmse,r_value,rr,fat,mean_error_normal[0,i],mean_error_left_normal[0,i],mean_predictions[0,i],mean_error_right_normal[0,i]])\n",
    "        print(\"MAE:\",mae)\n",
    "        print(\"MSE:\",mse)\n",
    "        print(\"NMSE:\",nmse)\n",
    "        print(\"RMSE:\",rmse)\n",
    "        print(\"NRMSE:\",nrmse)\n",
    "        print(\"R:\",r_value)\n",
    "        print(\"R²:\",rr)\n",
    "        print(\"Fator de 2:\",fat)\n",
    "\n",
    "    erros = pd.DataFrame(valores)\n",
    "    erros.columns = ['Index','MAE','MSE','NMSE','RMSE','NRMSE','R','R²','Fator de 2', 'error interval (+/-)', 'left limit', 'mean', 'right limit']\n",
    "    erros = erros.set_index('Index')\n",
    "    erros.loc['Média'] = erros.mean()\n",
    "    return erros\n"
   ]
  },
  {
   "cell_type": "code",
   "execution_count": 51,
   "id": "87d29c6a",
   "metadata": {},
   "outputs": [
    {
     "name": "stdout",
     "output_type": "stream",
     "text": [
      "MAE: 4.54164377656887\n",
      "MSE: 34.05348720546976\n",
      "NMSE: 0.5880247067511108\n",
      "RMSE: 5.835536582480634\n",
      "NRMSE: 0.7668276903914665\n",
      "R: 0.6446420961272682\n",
      "R²: 0.4119603861681522\n",
      "Fator de 2: 0.83950615\n"
     ]
    },
    {
     "data": {
      "text/html": [
       "<div>\n",
       "<style scoped>\n",
       "    .dataframe tbody tr th:only-of-type {\n",
       "        vertical-align: middle;\n",
       "    }\n",
       "\n",
       "    .dataframe tbody tr th {\n",
       "        vertical-align: top;\n",
       "    }\n",
       "\n",
       "    .dataframe thead th {\n",
       "        text-align: right;\n",
       "    }\n",
       "</style>\n",
       "<table border=\"1\" class=\"dataframe\">\n",
       "  <thead>\n",
       "    <tr style=\"text-align: right;\">\n",
       "      <th></th>\n",
       "      <th>MAE</th>\n",
       "      <th>MSE</th>\n",
       "      <th>NMSE</th>\n",
       "      <th>RMSE</th>\n",
       "      <th>NRMSE</th>\n",
       "      <th>R</th>\n",
       "      <th>R²</th>\n",
       "      <th>Fator de 2</th>\n",
       "      <th>error interval (+/-)</th>\n",
       "      <th>left limit</th>\n",
       "      <th>mean</th>\n",
       "      <th>right limit</th>\n",
       "    </tr>\n",
       "    <tr>\n",
       "      <th>Index</th>\n",
       "      <th></th>\n",
       "      <th></th>\n",
       "      <th></th>\n",
       "      <th></th>\n",
       "      <th></th>\n",
       "      <th></th>\n",
       "      <th></th>\n",
       "      <th></th>\n",
       "      <th></th>\n",
       "      <th></th>\n",
       "      <th></th>\n",
       "      <th></th>\n",
       "    </tr>\n",
       "  </thead>\n",
       "  <tbody>\n",
       "    <tr>\n",
       "      <th>1 depth</th>\n",
       "      <td>4.541644</td>\n",
       "      <td>34.053487</td>\n",
       "      <td>0.588025</td>\n",
       "      <td>5.835537</td>\n",
       "      <td>0.766828</td>\n",
       "      <td>0.644642</td>\n",
       "      <td>0.41196</td>\n",
       "      <td>0.839506</td>\n",
       "      <td>10.786138</td>\n",
       "      <td>4.592313</td>\n",
       "      <td>15.378451</td>\n",
       "      <td>26.164589</td>\n",
       "    </tr>\n",
       "    <tr>\n",
       "      <th>Média</th>\n",
       "      <td>4.541644</td>\n",
       "      <td>34.053487</td>\n",
       "      <td>0.588025</td>\n",
       "      <td>5.835537</td>\n",
       "      <td>0.766828</td>\n",
       "      <td>0.644642</td>\n",
       "      <td>0.41196</td>\n",
       "      <td>0.839506</td>\n",
       "      <td>10.786138</td>\n",
       "      <td>4.592313</td>\n",
       "      <td>15.378451</td>\n",
       "      <td>26.164589</td>\n",
       "    </tr>\n",
       "  </tbody>\n",
       "</table>\n",
       "</div>"
      ],
      "text/plain": [
       "              MAE        MSE      NMSE      RMSE     NRMSE         R       R²  \\\n",
       "Index                                                                           \n",
       "1 depth  4.541644  34.053487  0.588025  5.835537  0.766828  0.644642  0.41196   \n",
       "Média    4.541644  34.053487  0.588025  5.835537  0.766828  0.644642  0.41196   \n",
       "\n",
       "         Fator de 2  error interval (+/-)  left limit       mean  right limit  \n",
       "Index                                                                          \n",
       "1 depth    0.839506             10.786138    4.592313  15.378451    26.164589  \n",
       "Média      0.839506             10.786138    4.592313  15.378451    26.164589  "
      ]
     },
     "execution_count": 51,
     "metadata": {},
     "output_type": "execute_result"
    }
   ],
   "source": [
    "erros_pd=get_plot_prediction_versus_observed(model, y_val, y_predict)\n",
    "erros_pd"
   ]
  }
 ],
 "metadata": {
  "kernelspec": {
   "display_name": "Python 3",
   "language": "python",
   "name": "python3"
  },
  "language_info": {
   "codemirror_mode": {
    "name": "ipython",
    "version": 3
   },
   "file_extension": ".py",
   "mimetype": "text/x-python",
   "name": "python",
   "nbconvert_exporter": "python",
   "pygments_lexer": "ipython3",
   "version": "3.9.17"
  }
 },
 "nbformat": 4,
 "nbformat_minor": 5
}
